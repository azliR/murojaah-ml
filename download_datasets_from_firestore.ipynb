{
 "cells": [
  {
   "cell_type": "code",
   "execution_count": 2,
   "metadata": {
    "collapsed": true,
    "ExecuteTime": {
     "end_time": "2023-06-22T04:10:04.729754332Z",
     "start_time": "2023-06-22T04:10:04.017382328Z"
    }
   },
   "outputs": [],
   "source": [
    "import os\n",
    "import pandas as pd\n",
    "from google.cloud import firestore"
   ]
  },
  {
   "cell_type": "code",
   "execution_count": 7,
   "outputs": [],
   "source": [
    "os.environ[\"GOOGLE_CLOUD_PROJECT\"] = \"murojaah-24af8\"\n",
    "db = firestore.Client()\n",
    "docs = db.collection('datasets').get()"
   ],
   "metadata": {
    "collapsed": false
   }
  },
  {
   "cell_type": "code",
   "execution_count": 8,
   "outputs": [],
   "source": [
    "data = [doc.to_dict() for doc in docs]\n",
    "df = pd.DataFrame(data)\n",
    "df.head()"
   ],
   "metadata": {
    "collapsed": false
   }
  },
  {
   "cell_type": "code",
   "execution_count": 9,
   "outputs": [],
   "source": [
    "# evaluated_df = df[(df['hasEvaluated'] == True) & (df['gender'] == 'male') & (df['surahNumber'] == 1)]\n",
    "evaluated_df = df[(df['hasEvaluated'] == True) & (df['surahNumber'] == 1)]\n",
    "\n",
    "column_order = ['surahNumber', 'ayahNumber', 'url', 'age', 'country', 'gender', 'qiraah', 'recitationMode', 'submittedAt',\n",
    "                'hasEvaluated', 'label']\n",
    "evaluated_df = evaluated_df.reindex(columns=column_order)\n",
    "evaluated_df.columns = ['Surah Number', 'Ayah Number', 'URL to Recording', 'Age', 'Country',\n",
    "                        'Gender', 'Qiraah', 'Recitation Mode',\n",
    "                        'Timestamp of Recording Submission',\n",
    "                        'Has This Recording Been Evaluated?', 'Label']\n",
    "\n",
    "evaluated_df = evaluated_df.replace('none', None)\n",
    "\n",
    "evaluated_df.to_csv('./data/murojaah-ml_v1.0_labeled.csv', index=False)\n",
    "evaluated_df.head()"
   ],
   "metadata": {
    "collapsed": false
   }
  },
  {
   "cell_type": "code",
   "execution_count": 3,
   "outputs": [
    {
     "data": {
      "text/plain": "   Surah Number  Ayah Number  \\\n0             1            4   \n1             1            6   \n2             1            5   \n3             1            5   \n4             1            7   \n\n                                    URL to Recording  Age  Country Gender  \\\n0  https://firebasestorage.googleapis.com/v0/b/mu...   -1      NaN   male   \n1  https://firebasestorage.googleapis.com/v0/b/mu...   -1      NaN   male   \n2  https://firebasestorage.googleapis.com/v0/b/mu...   -1      NaN    NaN   \n3  https://firebasestorage.googleapis.com/v0/b/mu...   -1      NaN   male   \n4  https://firebasestorage.googleapis.com/v0/b/mu...   -1      NaN   male   \n\n   Qiraah  Recitation Mode Timestamp of Recording Submission  \\\n0     NaN              NaN  2023-06-15 07:11:47.719000+00:00   \n1     NaN              NaN  2023-05-28 11:29:18.196000+00:00   \n2     NaN              NaN  2023-04-08 06:37:41.062000+00:00   \n3     NaN              NaN  2023-04-09 21:41:32.592000+00:00   \n4     NaN              NaN  2023-04-09 21:41:38.439000+00:00   \n\n   Has This Recording Been Evaluated?  Label  \n0                                True   True  \n1                                True   True  \n2                                True  False  \n3                                True   True  \n4                                True   True  ",
      "text/html": "<div>\n<style scoped>\n    .dataframe tbody tr th:only-of-type {\n        vertical-align: middle;\n    }\n\n    .dataframe tbody tr th {\n        vertical-align: top;\n    }\n\n    .dataframe thead th {\n        text-align: right;\n    }\n</style>\n<table border=\"1\" class=\"dataframe\">\n  <thead>\n    <tr style=\"text-align: right;\">\n      <th></th>\n      <th>Surah Number</th>\n      <th>Ayah Number</th>\n      <th>URL to Recording</th>\n      <th>Age</th>\n      <th>Country</th>\n      <th>Gender</th>\n      <th>Qiraah</th>\n      <th>Recitation Mode</th>\n      <th>Timestamp of Recording Submission</th>\n      <th>Has This Recording Been Evaluated?</th>\n      <th>Label</th>\n    </tr>\n  </thead>\n  <tbody>\n    <tr>\n      <th>0</th>\n      <td>1</td>\n      <td>4</td>\n      <td>https://firebasestorage.googleapis.com/v0/b/mu...</td>\n      <td>-1</td>\n      <td>NaN</td>\n      <td>male</td>\n      <td>NaN</td>\n      <td>NaN</td>\n      <td>2023-06-15 07:11:47.719000+00:00</td>\n      <td>True</td>\n      <td>True</td>\n    </tr>\n    <tr>\n      <th>1</th>\n      <td>1</td>\n      <td>6</td>\n      <td>https://firebasestorage.googleapis.com/v0/b/mu...</td>\n      <td>-1</td>\n      <td>NaN</td>\n      <td>male</td>\n      <td>NaN</td>\n      <td>NaN</td>\n      <td>2023-05-28 11:29:18.196000+00:00</td>\n      <td>True</td>\n      <td>True</td>\n    </tr>\n    <tr>\n      <th>2</th>\n      <td>1</td>\n      <td>5</td>\n      <td>https://firebasestorage.googleapis.com/v0/b/mu...</td>\n      <td>-1</td>\n      <td>NaN</td>\n      <td>NaN</td>\n      <td>NaN</td>\n      <td>NaN</td>\n      <td>2023-04-08 06:37:41.062000+00:00</td>\n      <td>True</td>\n      <td>False</td>\n    </tr>\n    <tr>\n      <th>3</th>\n      <td>1</td>\n      <td>5</td>\n      <td>https://firebasestorage.googleapis.com/v0/b/mu...</td>\n      <td>-1</td>\n      <td>NaN</td>\n      <td>male</td>\n      <td>NaN</td>\n      <td>NaN</td>\n      <td>2023-04-09 21:41:32.592000+00:00</td>\n      <td>True</td>\n      <td>True</td>\n    </tr>\n    <tr>\n      <th>4</th>\n      <td>1</td>\n      <td>7</td>\n      <td>https://firebasestorage.googleapis.com/v0/b/mu...</td>\n      <td>-1</td>\n      <td>NaN</td>\n      <td>male</td>\n      <td>NaN</td>\n      <td>NaN</td>\n      <td>2023-04-09 21:41:38.439000+00:00</td>\n      <td>True</td>\n      <td>True</td>\n    </tr>\n  </tbody>\n</table>\n</div>"
     },
     "execution_count": 3,
     "metadata": {},
     "output_type": "execute_result"
    }
   ],
   "source": [
    "saved_df = pd.read_csv('./data/murojaah-ml_v1.0_labeled.csv')\n",
    "saved_df.head()"
   ],
   "metadata": {
    "collapsed": false,
    "ExecuteTime": {
     "end_time": "2023-06-22T04:10:07.019031219Z",
     "start_time": "2023-06-22T04:10:06.963562674Z"
    }
   }
  }
 ],
 "metadata": {
  "kernelspec": {
   "display_name": "Python 3",
   "language": "python",
   "name": "python3"
  },
  "language_info": {
   "codemirror_mode": {
    "name": "ipython",
    "version": 2
   },
   "file_extension": ".py",
   "mimetype": "text/x-python",
   "name": "python",
   "nbconvert_exporter": "python",
   "pygments_lexer": "ipython2",
   "version": "2.7.6"
  }
 },
 "nbformat": 4,
 "nbformat_minor": 0
}
